{
 "cells": [
  {
   "attachments": {},
   "cell_type": "markdown",
   "metadata": {},
   "source": [
    "# Problem 1"
   ]
  },
  {
   "cell_type": "code",
   "execution_count": null,
   "metadata": {},
   "outputs": [],
   "source": [
    "# 1 - numpy kütüphanesini import edin\n",
    "import numpy as np\n",
    "\n",
    "# 2 - 0 ile 10 arasında 5 sayıdan oluşan matris üretin\n",
    "matris = np.random.randint(0, 11, size=5)\n",
    "print(\"Matris:\", matris)\n",
    "\n",
    "# 3 - matris'in boyutunu öğrenin\n",
    "print(\"Matrisin boyutu (shape):\", matris.shape)\n",
    "\n",
    "# 4 - matris'i yeniden boyutlandırın (örnek: 5x1 şekline)\n",
    "matris_reshaped = matris.reshape((5, 1))\n",
    "print(\"Yeniden boyutlandırılmış matris:\\n\", matris_reshaped)\n",
    "\n",
    "# 5 - matris'in boyut sayısını öğrenin\n",
    "print(\"Boyut sayısı (ndim):\", matris_reshaped.ndim)\n"
   ]
  },
  {
   "attachments": {},
   "cell_type": "markdown",
   "metadata": {},
   "source": [
    "# Problem 2"
   ]
  },
  {
   "cell_type": "code",
   "execution_count": null,
   "metadata": {},
   "outputs": [],
   "source": [
    "import numpy as np\n",
    "\n",
    "# 1 - 0 ile 10 arasında bulunan tek sayılardan oluşan matris üretin\n",
    "tek_sayilar = np.arange(1, 10, 2)  # [1, 3, 5, 7, 9]\n",
    "print(\"Tek sayılardan oluşan matris:\", tek_sayilar)\n",
    "\n",
    "# 2 - Oluşturduğunuz matrisi parçalayın (örnek: iki parçaya bölme)\n",
    "parca1, parca2 = np.array_split(tek_sayilar, 2)\n",
    "print(\"Parça 1:\", parca1)\n",
    "print(\"Parça 2:\", parca2)\n",
    "\n",
    "# 3 - Parçalanmış matrisleri birleştirin\n",
    "birlesmis_matris = np.concatenate((parca1, parca2))\n",
    "print(\"Birleştirilmiş matris:\", birlesmis_matris)\n"
   ]
  },
  {
   "attachments": {},
   "cell_type": "markdown",
   "metadata": {},
   "source": [
    "# Problem 3"
   ]
  },
  {
   "cell_type": "code",
   "execution_count": null,
   "metadata": {},
   "outputs": [],
   "source": [
    "import numpy as np\n",
    "\n",
    "# 1 - 5 ile 100 arasında ikişer ikişer atlayarak rastgele 10 sayıdan oluşan matris üretin\n",
    "sayilar = np.arange(5, 101, 2)  # 5, 7, 9, ..., 99\n",
    "matris = np.random.choice(sayilar, size=10, replace=False)\n",
    "print(\"Matris:\", matris)\n",
    "\n",
    "# 2 - Matrisin özelliklerini inceleyin\n",
    "print(\"Matrisin şekli (shape):\", matris.shape)\n",
    "print(\"Matrisin boyut sayısı (ndim):\", matris.ndim)\n",
    "print(\"Matrisin veri tipi (dtype):\", matris.dtype)\n",
    "print(\"Matrisin boyutu (size):\", matris.size)\n",
    "print(\"Matrisin elemanlarının toplamı:\", np.sum(matris))\n",
    "print(\"Matrisin ortalaması:\", np.mean(matris))\n",
    "print(\"Matrisin standart sapması:\", np.std(matris))"
   ]
  }
 ],
 "metadata": {
  "kernelspec": {
   "display_name": "Python 3",
   "language": "python",
   "name": "python3"
  },
  "language_info": {
   "codemirror_mode": {
    "name": "ipython",
    "version": 3
   },
   "file_extension": ".py",
   "mimetype": "text/x-python",
   "name": "python",
   "nbconvert_exporter": "python",
   "pygments_lexer": "ipython3",
   "version": "3.13.2"
  },
  "orig_nbformat": 4,
  "vscode": {
   "interpreter": {
    "hash": "5026d2d6e7aaaaba093def813beadff083d8733e4a511af01735cbabd156995d"
   }
  }
 },
 "nbformat": 4,
 "nbformat_minor": 2
}
