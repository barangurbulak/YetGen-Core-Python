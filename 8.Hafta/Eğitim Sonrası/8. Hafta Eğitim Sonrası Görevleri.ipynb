{
 "cells": [
  {
   "attachments": {},
   "cell_type": "markdown",
   "metadata": {},
   "source": [
    "# Problem 1\n",
    "\n",
    "Şimdi beraber kullanıcılardan aldığımız verileri işleyerek, onlara hem çıktı verecek, hem de aldığımız ve hesapladığımız verileri ileride kullanabilmek adına kaydedeceğiz.\n",
    "\n",
    "\n",
    " **Bu bir veri giriş platformu olacak**\n",
    "\n",
    "\n",
    " * kullanıcıya kaç giriş yapacağını soracağız\n",
    "* kullanıcıdan isim-soyisim, yaş, boy, kilo bilgilerini alarak VKİ hesaplayacağız\n",
    "* ardından bunları sınıflara göre kaydedeceğiz bir dosyaya kaydedeceğiz\n",
    "\n",
    "\n",
    "Sınıflar ise şu şekilde: \n",
    "* 18, 5 kg/m.'nin altında olanlar: Zayıf\n",
    "* 18.5 – 24, 9 kg/m. arasında olanlar: Normal kilolu\n",
    "* 25 – 29, 9 kg/m. arasında olanlar: Fazla kilolu\n",
    "* 30 – 39, 9 kg/m. arasında olanlar: Obez\n",
    "* 40 kg/m.'nin üzerinde olanlar: İleri derecede obez (morbid obez), olarak görülür."
   ]
  },
  {
   "cell_type": "code",
   "execution_count": null,
   "metadata": {},
   "outputs": [],
   "source": [
    "def vki(boy, kilo):\n",
    "    \"\"\"Vücut Kitle İndeksini hesaplar\"\"\"\n",
    "    return kilo / (boy ** 2)\n",
    "\n",
    "def hesaplama(vki_deger):\n",
    "    \"\"\"VKİ değerine göre sınıflandırma yapar\"\"\"\n",
    "    if vki_deger < 18.5:\n",
    "        return \"Zayıf\"\n",
    "    elif 18.5 <= vki_deger < 25:\n",
    "        return \"Normal kilolu\"\n",
    "    elif 25 <= vki_deger < 30:\n",
    "        return \"Fazla kilolu\"\n",
    "    elif 30 <= vki_deger < 40:\n",
    "        return \"Obez\"\n",
    "    else:\n",
    "        return \"İleri derecede obez (morbid obez)\"\n",
    "\n",
    "def kullanici_kaydi(isim, soyisim, boy, kilo, yas, endeks, sinif):\n",
    "    \"\"\"Kullanıcı bilgilerini formatlı şekilde döndürür\"\"\"\n",
    "    kayit = (\n",
    "        f\"\\nKullanıcı: {isim} {soyisim}\\n\"\n",
    "        f\"Yaş: {yas}\\n\"\n",
    "        f\"Boy: {boy} m\\n\"\n",
    "        f\"Kilo: {kilo} kg\\n\"\n",
    "        f\"VKİ: {endeks:.2f}\\n\"\n",
    "        f\"Durum: {sinif}\\n\"\n",
    "        f\"{'*' * 20}\\n\"\n",
    "    )\n",
    "    return kayit\n",
    "\n",
    "def main():\n",
    "    giris=int(input(\"kaç kullanıcı gireceksiniz\"))\n",
    "\n",
    "    for i in range(giris):\n",
    "        print(f\"\\nKullanıcı kaydı {i+1}\")\n",
    "        isim = input(\"Ad: \")\n",
    "        soyisim = input(\"Soyad: \")\n",
    "        yas = int(input(\"Yaş: \"))\n",
    "        boy = float(input(\"Boy (m): \"))\n",
    "        kilo = float(input(\"Kilo (kg): \"))\n",
    "        \n",
    "                \n",
    "        endeks = vki(boy, kilo)\n",
    "        sinif = hesaplama(endeks)\n",
    "            \n",
    "        kayit = kullanici_kaydi(isim, soyisim, boy, kilo, yas, endeks, sinif)\n",
    "        print(kayit)  # Ekrana da yazdırıyoruz\n",
    "            \n",
    "        with open(\"saglik.txt\", \"a\", encoding=\"utf-8\") as f:\n",
    "            f.write(kayit)\n",
    "        print(\"Kullanıcı başarıyla kaydedildi!\")\n",
    "            \n",
    "main()"
   ]
  },
  {
   "attachments": {},
   "cell_type": "markdown",
   "metadata": {},
   "source": [
    "# Problem 2\n",
    "**YetBar - Smoothie Bank**\n",
    "---\n",
    "YetBar spor salonunun girişinde bulunan, insansız bir sağlıklı içecek otomatıdır. Kullanıcı çeşitli girdiler smoothie içeceğine koyacağı ürünleri belirleyebilir, fiyat hesaplaması yaptırabilir ya da sadece menüyü görüntüleyebilir.\n",
    "\n",
    "**Projenin Amacı:**\n",
    "\n",
    "*   Birbirini etkileyen ve bir kod içerisinde birden fazla defa başvurulacak fonksiyonların oluşturulup, \"fonksiyonel\" proglamlamak.\n",
    "*   Büyük programları yazarken, yazılımcı olarak yapabileceğimiz hatalardan kaçınmak için kontrol yöntemleri geliştirmek.\n",
    "*   Kullanıcı inputlarını ve yaptığımız hesapları, raporlamak/loglamak amacıyla kaydetmek.\n",
    "\n",
    "**Programdan Beklenen Çıktılar**\n",
    "* Program kullanıcıya temelde 2 farklı işlem yapma imkanı sağlar.\n",
    "> 1. Menüyü görüntüleme\n",
    "> 3. Satın alma\n",
    "* Satın alınan her içecek tarih, fiyat bilgisi ile kaydedilmeli ve her zaman ulaşılabilir olmalıdır.\n",
    "\n",
    "\n"
   ]
  },
  {
   "cell_type": "code",
   "execution_count": null,
   "metadata": {},
   "outputs": [],
   "source": []
  }
 ],
 "metadata": {
  "kernelspec": {
   "display_name": "Python 3",
   "language": "python",
   "name": "python3"
  },
  "language_info": {
   "codemirror_mode": {
    "name": "ipython",
    "version": 3
   },
   "file_extension": ".py",
   "mimetype": "text/x-python",
   "name": "python",
   "nbconvert_exporter": "python",
   "pygments_lexer": "ipython3",
   "version": "3.13.2"
  },
  "orig_nbformat": 4,
  "vscode": {
   "interpreter": {
    "hash": "5026d2d6e7aaaaba093def813beadff083d8733e4a511af01735cbabd156995d"
   }
  }
 },
 "nbformat": 4,
 "nbformat_minor": 2
}
