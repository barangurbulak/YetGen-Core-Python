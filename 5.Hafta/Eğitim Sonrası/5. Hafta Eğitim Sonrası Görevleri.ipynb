{
 "cells": [
  {
   "cell_type": "markdown",
   "metadata": {
    "id": "Rm1DKmXZM-Ja"
   },
   "source": [
    "# Problem 1\n",
    "\n",
    "Fizikte, bir nesnenin sabit ivmeyle hareket ederken son hızını \n",
    "(veya hızını) bulmak için aşağıdaki denklem kullanılabilir:\n",
    "```\n",
    "vf = vi + at\n",
    "burada:\n",
    "vf= son hız\n",
    "vi= ilk hız\n",
    "a= hızlanma\n",
    "t= zaman\n",
    "```\n",
    "İlk hız, ivme ve zaman verildiğinde, son hızı döndürecek bir fonksiyon yazın."
   ]
  },
  {
   "cell_type": "code",
   "execution_count": null,
   "metadata": {
    "id": "vWrjJiV0M-Jk"
   },
   "outputs": [],
   "source": [
    "def hız(ilkHız,ivme,zaman):\n",
    "    vf=ilkHız+ivme*zaman\n",
    "    print(\"son hız=\", vf)\n",
    "\n",
    "hız(10,15,20)"
   ]
  },
  {
   "cell_type": "markdown",
   "metadata": {
    "id": "uAHpyY5HM-Jq"
   },
   "source": [
    "# Problem 2\n",
    "\n",
    "1'den 1000'e kadar olan sayılardan mükemmel sayı olanları ekrana yazdırın. Bunun için bir sayının mükemmel olup olmadığını dönen bir tane fonksiyon yazın.\n",
    "\n",
    "Bir sayının bölenlerinin toplamı kendine eşitse bu sayı mükemmel bir sayıdır. Örnek olarak 6 mükemmel bir sayıdır (1 + 2 + 3 = 6)."
   ]
  },
  {
   "cell_type": "code",
   "execution_count": null,
   "metadata": {
    "id": "yrY4Y5ncM-Jr"
   },
   "outputs": [],
   "source": [
    "def mükemmel(x):\n",
    "    toplam=0\n",
    "    for i in range(1,x):\n",
    "        if x%i==0:\n",
    "            toplam+=i\n",
    "    return toplam==x\n",
    "        \n",
    "for i in range(1,1000):\n",
    "    if mükemmel(i):\n",
    "            print(i , \"mükemmel sayıdır\")"
   ]
  },
  {
   "cell_type": "markdown",
   "metadata": {
    "id": "C2-XwlJtM-Jr"
   },
   "source": [
    "# Problem 3\n",
    "\n",
    "1'den 100'e kadar olan sayılardan pisagor üçgeni oluşturanları ekrana yazdıran bir fonksiyon yazın.(a <= 100,b <= 100)\n"
   ]
  },
  {
   "cell_type": "code",
   "execution_count": null,
   "metadata": {
    "id": "BMNy4xi-M-Js"
   },
   "outputs": [],
   "source": [
    "def pisagor():\n",
    "    for i in range(1,101):\n",
    "        for k in range(1,101):\n",
    "            for h in range(1,101):\n",
    "                if i<k:\n",
    "                    if i*i+k*k==h*h:\n",
    "                        print(i , k , h)\n",
    "\n",
    "pisagor()"
   ]
  },
  {
   "cell_type": "markdown",
   "metadata": {
    "id": "oPfmWi4jM-Js"
   },
   "source": [
    "# Problem 4\n",
    "\n",
    "Bir duvar boyamaya karar verdiniz. Boya kutusunun üzerindeki talimatta, 1 kutu boyanın 5 metrekarelik bir duvarı boyayabileceği yazıyor. Rastgele bir duvar yüksekliği ve genişliği verildiğinde, kaç kutu boya satın almanız gerektiğini hesaplayın.\n",
    "\n",
    "kutu sayısı = (duvar yüksekliği * duvar genişliği) ÷ kutu başına kaplama.\n",
    "\n",
    "örneğin Yükseklik = 2, Genişlik = 4, Kaplama = 5\n",
    "\n",
    "kutu sayısı = (2 * 4) ÷ 5 = 1.6\n",
    "\n",
    "Ancak bir kutu boyanın 0,6'sını satın alamayacağınız için, sonuç 2 kutuya yuvarlanmalıdır .\n"
   ]
  },
  {
   "cell_type": "code",
   "execution_count": null,
   "metadata": {
    "id": "0zuyzSp5M-Jt"
   },
   "outputs": [],
   "source": [
    "import math\n",
    "def duvar(yükseklik,genişlik):\n",
    "    kutu=(yükseklik*genişlik)/5\n",
    "    return math.floor(kutu)\n",
    "    \n",
    "duvar(6,8)"
   ]
  },
  {
   "cell_type": "markdown",
   "metadata": {
    "id": "pe6TJuBBM-Ju"
   },
   "source": [
    "# Problem 5\n",
    "\n",
    "Bir kelimedeki ünlü ve ünsüz harfleri sayan bir fonksiyon yazınız."
   ]
  },
  {
   "cell_type": "code",
   "execution_count": null,
   "metadata": {
    "id": "LJ0opjiLM-Ju"
   },
   "outputs": [],
   "source": [
    "ünlü=\"aeıioöuüAEIİOÖUÜ\"\n",
    "ünsüz=\"bcçdfgğhjklmnprsştvyzBCÇDFGĞHJKLMNPRSŞTVYZ\"\n",
    "def kelime(x):\n",
    "    unluler=[harf for harf in x if harf not in ünsüz]\n",
    "    unsuzler=[harf for harf in x if harf not in ünlü]\n",
    "    print(f\"ünsüzler: {unsuzler}\")\n",
    "    print(f\"ünlüler: {unluler}\")\n",
    "\n",
    "kelime(\"Baran\")"
   ]
  },
  {
   "cell_type": "markdown",
   "metadata": {
    "id": "Lfls2YTXM-Jv"
   },
   "source": [
    "# Problem 6\n",
    "\n",
    "Verilen bir listeden çift sayıları yazdıran bir fonksiyon yazınız.\n"
   ]
  },
  {
   "cell_type": "code",
   "execution_count": null,
   "metadata": {
    "id": "qUwsL20IM-Jv"
   },
   "outputs": [],
   "source": [
    "def listem(*x):\n",
    "    for i in x:\n",
    "        if i%2==0:\n",
    "            print(i)\n",
    "listem(1,2,3,4,5,6,7,8,9,10,11)"
   ]
  },
  {
   "cell_type": "markdown",
   "metadata": {
    "id": "IPp724iIM-Jy"
   },
   "source": [
    "# Problem 7\n",
    "\n",
    "0'dan 10'a kadar olan sayıların toplamını hesaplayan özyinelemeli (Recursive Function) bir fonksiyon oluşturan bir fonksiyon yazınız.\n",
    "\n",
    "Özyinelemeli (Recursive Function) bir işlev, kendini tekrar tekrar çağıran bir işlevdir."
   ]
  },
  {
   "cell_type": "code",
   "execution_count": null,
   "metadata": {
    "id": "KFW6xhTJM-Jz"
   },
   "outputs": [],
   "source": [
    "def function(x):\n",
    "    if x:\n",
    "        return x+function(x-1)\n",
    "    else:\n",
    "        return 0\n",
    "print(function(10))\n",
    "\n"
   ]
  }
 ],
 "metadata": {
  "colab": {
   "provenance": []
  },
  "kernelspec": {
   "display_name": "Python 3",
   "language": "python",
   "name": "python3"
  },
  "language_info": {
   "codemirror_mode": {
    "name": "ipython",
    "version": 3
   },
   "file_extension": ".py",
   "mimetype": "text/x-python",
   "name": "python",
   "nbconvert_exporter": "python",
   "pygments_lexer": "ipython3",
   "version": "3.13.2"
  },
  "orig_nbformat": 4
 },
 "nbformat": 4,
 "nbformat_minor": 0
}
