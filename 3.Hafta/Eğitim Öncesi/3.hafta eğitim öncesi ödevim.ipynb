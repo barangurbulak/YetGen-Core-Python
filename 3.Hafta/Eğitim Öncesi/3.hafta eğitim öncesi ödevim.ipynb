{
  "cells": [
    {
      "cell_type": "markdown",
      "metadata": {
        "id": "tsD4YVAe_Te2"
      },
      "source": [
        "# Problem 1\n",
        "Bir sayının 7'ye bölünebilir olup olmadığını kontrol etmek \n",
        "için bir program yazın.\n",
        "\n",
        "İpucu: Mod operatörünü (%) kullanabilirsiniz."
      ]
    },
    {
      "cell_type": "code",
      "execution_count": 2,
      "metadata": {
        "id": "NGjvNwKx_Te7"
      },
      "outputs": [
        {
          "name": "stdout",
          "output_type": "stream",
          "text": [
            "sayınız yediye tam bölünmüyor\n"
          ]
        }
      ],
      "source": [
        "sayı=int(input(\"sayı giriniz: \"))\n",
        "if sayı%7==0:\n",
        "    print(\"sayınız yediye tam bölünüyor.\")\n",
        "else:\n",
        "    print(\"sayınız yediye tam bölünmüyor\")"
      ]
    },
    {
      "cell_type": "markdown",
      "metadata": {
        "id": "Kg3qiBAI_Te8"
      },
      "source": [
        "# Problem 2\n",
        "Kullanıcıdan vize ve final notu isteyin. Girilen vize notunun %40’ı ve \n",
        "girilen finalnotunun ise %60’ı alınarak yıl sonu not ortalaması hesaplanacaktır. \n",
        "\n",
        "Bu not ortalaması eğer 85 ve üzeri ise AA, \n",
        "\n",
        "75 ve 85 arasında ise BA, \n",
        "\n",
        "70 ve 75 arasında ise BB, \n",
        "\n",
        "65 ve 70 arasında ise CB,\n",
        "\n",
        "60 ve 65 arasında ise CC,\n",
        "\n",
        "55 ve 60 arasında ise DC,\n",
        "\n",
        "50 ve 55 arasında ise DD olarak hesaplanacaktır. \n",
        "\n",
        "Bu öğrencinin yıl sonu toplam notu 50’nin altında ise FF ile dersten kalacaktır. \n",
        "\n",
        "Ayrıca öğrencinin final notu 50’nin altında ise direkt FF ile kalacaktır."
      ]
    },
    {
      "cell_type": "code",
      "execution_count": 17,
      "metadata": {
        "id": "MXTtCxI1_Te8"
      },
      "outputs": [
        {
          "name": "stdout",
          "output_type": "stream",
          "text": [
            "harf notunuz FF,kaldınız\n"
          ]
        }
      ],
      "source": [
        "vize=int(input(\"vize notunuzu giriniz:\"))\n",
        "final=int(input(\"final notunuzu giriniz:\"))\n",
        "ortalama=int(vize)*40/100 + int(final)*60/100\n",
        "if final<50:\n",
        "    print(\"harf notunuz FF,kaldınız.\")\n",
        "else:\n",
        "    if ortalama>=85:\n",
        "        print(\"harf notunuz AA\")\n",
        "    elif 85>ortalama>=75:\n",
        "        print(\"harf notunuz BA\")\n",
        "    elif 75>ortalama>=70:\n",
        "        print(\"harf notunuz BB\")\n",
        "    elif 70>ortalama>=65:\n",
        "        print(\"harf notunuz CB\")\n",
        "    elif 65>ortalama>=60:\n",
        "        print(\"harf notunuz CC\")\n",
        "    elif 60>ortalama>=55:\n",
        "        print(\"harf notunuz DC\")\n",
        "    elif 55>ortalama>=50:\n",
        "        print(\"harf notunuz DD\")\n",
        "    else:\n",
        "        print(\"harf notunuz FF,kaldınız\")\n"
      ]
    },
    {
      "cell_type": "markdown",
      "metadata": {
        "id": "tAoRYCTC_Te8"
      },
      "source": [
        "# Problem 3\n",
        "İki YetGenli Zirve'de karşılaşıyorlar. Birbirlerini tanımak için sorular soruyorlar. Birbirlerine yaşlarını soruyorlar. Akıllarına bir Python programı yazıp, yaşlarını ve isimlerini giriyorlar. Büyük olanın yaşını ekrana yazdıran programı yazıyorlar. Sende bu iki YetGenli'ye destek olmak ister misin?\n",
        "\n",
        "```\n",
        "Birinci YetGenlinin ismi: Ahmet\n",
        "Birinci YetGenlinin yaşı : 20\n",
        "İkinci YetGenlinin ismi: Mehmet\n",
        "İkinci YetGenlinin yaşı : 25\n",
        "Mehmet'in yaşı daha büyük ve yaşı 25'tir.\n",
        "```"
      ]
    },
    {
      "cell_type": "code",
      "execution_count": 24,
      "metadata": {
        "id": "bPjE8W0i_Te8"
      },
      "outputs": [
        {
          "name": "stdout",
          "output_type": "stream",
          "text": [
            "sude'nin yaşı daha büyük ve yaşı 21'dir\n"
          ]
        }
      ],
      "source": [
        "isim1=input(\"ilk kişinin ismini giriniz:\")\n",
        "yaş1=int(input(\"ilk kişinin yaşını giriniz: \"))\n",
        "isim2=input(\"ikinci kişinin ismini giriniz:\")\n",
        "yaş2=int(input(\"ikinci kişinin yaşını giriniz:\"))\n",
        "\n",
        "if yaş1>yaş2:\n",
        "    print(f\" {isim1}'in yaşı daha büyük ve yaşı {yaş1}'dir\")\n",
        "else:\n",
        "    print(f\"{isim2}'nin yaşı daha büyük ve yaşı {yaş2}'dir\")"
      ]
    },
    {
      "cell_type": "markdown",
      "metadata": {
        "id": "zBVv8Tyg_Te9"
      },
      "source": [
        "# Problem 4\n",
        "Pandemi döneminde AVM'lerde ateş ölçümü yapılıyor. AVM'ye giren kişinin ateş ölçümü 37.5 derecenin altında ise girişe izin veriliyor. 37.5 derecenin üstünde ise girişe izin verilmiyor. AVM'ye girişe izin verilip verilmediğini ekrana yazdıran bir program yazın.\n",
        "\n",
        "Program sonunda şöyle bir çıktı elde etmelisiniz:\n",
        "\n",
        "```\n",
        "Ateşiniz 37.5 derece. AVM'ye girebilirsin! Maske takmayı unutma!\n",
        "Ateşiniz 37.6 derece. AVM'ye giremezsin! Hemen evine dön!\n",
        "```"
      ]
    },
    {
      "cell_type": "code",
      "execution_count": 3,
      "metadata": {
        "id": "TSAXs8et_Te9"
      },
      "outputs": [
        {
          "name": "stdout",
          "output_type": "stream",
          "text": [
            "Ateşiniz 37.0 derece.AVM'ye girebilirsin! Maske takmayı unutma!\n"
          ]
        }
      ],
      "source": [
        "ateş=float(input(\"ateşiniz kaç derece?\"))\n",
        "if ateş>37.5:\n",
        "    print(f\"Ateşiniz {ateş} derece.AVM'ye giremezsin! Hemen evine dön!\")\n",
        "else:\n",
        "    print(f\"Ateşiniz {ateş} derece.AVM'ye girebilirsin! Maske takmayı unutma!\")\n"
      ]
    },
    {
      "cell_type": "markdown",
      "metadata": {
        "id": "6AEkZrDt_Te9"
      },
      "source": [
        "# Problem 5\n",
        "YetGen bir spor kulübüyle sponsorluk anlaşması yapıyor. Kulüp, sponsorluk anlaşmasına göre her YetGen liderinin beden kitle indeksini hesaplamak istiyor. Spor kulübü, beden kitle indeksini hesaplamak için YetGen Jump Python liderlerinden Berkcan ve Ahmet'i arıyor. Berkcan ve Ahmet, kulübe yardımcı olmak için bir Python programı yazıyorlar. Sende bu iki YetGen liderine destek olmak ister misin?\n",
        "\n",
        "Kullanıcıdan alınan boy ve kilo değerlerine göre beden kitle indeksini hesaplayın ve şu kurallara göre ekrana şu yazıları yazdırın.\n",
        "\n",
        "\n",
        "Beden Kitle İndeksi, kişinin ağırlığının (kg olarak) boyunun karesine (m olarak) bölünmesiyle hesaplanır.\n",
        "\n",
        "\n",
        "```\n",
        " BKİ 18.5'un altındaysa -------> Zayıf\n",
        "\n",
        " BKİ 18.5 ile 25 arasındaysa ------> Normal\n",
        "\n",
        " BKİ 25 ile 30 arasındaysa --------> Fazla Kilolu\n",
        "\n",
        " BKİ 30'un üstündeyse -------------> Obez\n",
        "```\n",
        "\n"
      ]
    },
    {
      "cell_type": "code",
      "execution_count": 11,
      "metadata": {
        "id": "t-XPI_u0_Te-"
      },
      "outputs": [
        {
          "name": "stdout",
          "output_type": "stream",
          "text": [
            "19.959355494266223\n",
            "Normal\n"
          ]
        }
      ],
      "source": [
        "ağırlık=float(input(\"kilonuzu kilogram cinsinden giriniz: \"))\n",
        "boy=float(input(\"boyunuzu metre cinsinden giriniz: \"))\n",
        "BKİ=ağırlık/boy**2\n",
        "print(BKİ)\n",
        "if BKİ<18.5:\n",
        "    print(\"Zayıf\")\n",
        "elif 18.5<=BKİ<25:\n",
        "    print(\"Normal\")\n",
        "elif 25<=BKİ<30:\n",
        "    print(\"Fazla Kilolu\")\n",
        "elif 30<=BKİ:\n",
        "    print(\"Obez\")"
      ]
    },
    {
      "cell_type": "markdown",
      "metadata": {
        "id": "oFsvQyaO_Te-"
      },
      "source": [
        "# Problem 6\n",
        "Kullanıcıdan isim, yaş ve eğitim bilgilerini isteyip ehliyet alabilme  durumunu kontrol ediniz. \n",
        "\n",
        "Ehliyet alma koşulu en az 18 yaşında ve eğitim durumu lise ya da üniversite olmalıdır. "
      ]
    },
    {
      "cell_type": "code",
      "execution_count": 20,
      "metadata": {
        "id": "Tu2mcgco_Te-"
      },
      "outputs": [
        {
          "name": "stdout",
          "output_type": "stream",
          "text": [
            "ehliyet alamazsınız\n"
          ]
        }
      ],
      "source": [
        "isim=input(\"isminizi giriniz:\")\n",
        "yaş=int(input(\"yaşınızı giriniz:\"))\n",
        "eğitimDurumu=input(\"eğitim durumunuzu(ilkokul/ortaokul/lise/üniversite) giriniz:\")\n",
        "if yaş>=18 and (eğitimDurumu==\"lise \"or \"üniversite\"):\n",
        "    print(\"ehliyet alabilirsiniz\")\n",
        "else:\n",
        "    print(\"ehliyet alamazsınız\")"
      ]
    },
    {
      "cell_type": "markdown",
      "metadata": {
        "id": "eUkxVSAE_Te_"
      },
      "source": [
        "# Problem 7\n",
        "Bir yılın artık yıl olup olmadığını kontrol etmek için bir program yazın. \n",
        "Artık yıl kuralı:\n",
        "\n",
        "a) Eğer yılın son iki basamağı (00) ile bitmiyor ve yalnızca 4'e tam bölünüyorsa artık yıldır. Ya da, \n",
        "\n",
        "b) Eğer yıl 400'e tam bölünüyorsa artık yıldır.\n",
        "\n",
        "**Örneğin**\n",
        "```\n",
        "2017 artık yıl değildir.\n",
        "1900 artık yıl değildir\n",
        "2012 artık yıldır.\n",
        "2000 artık yıldır.\n",
        "```"
      ]
    },
    {
      "cell_type": "code",
      "execution_count": 26,
      "metadata": {
        "id": "4uWh8qUL_Te_"
      },
      "outputs": [
        {
          "name": "stdout",
          "output_type": "stream",
          "text": [
            "1600 artık yıldır.\n"
          ]
        }
      ],
      "source": [
        "yıl=int(input(\"yılı giriniz: \"))\n",
        "if yıl%100!=0 and yıl%4==0:\n",
        "    print(f\"{yıl} artık yıldır.\")\n",
        "elif yıl%400==0:\n",
        "    print(f\"{yıl} artık yıldır.\")\n",
        "else:\n",
        "    print(f\"{yıl} artık yıl değildir.\")"
      ]
    }
  ],
  "metadata": {
    "colab": {
      "provenance": []
    },
    "kernelspec": {
      "display_name": "Python 3",
      "language": "python",
      "name": "python3"
    },
    "language_info": {
      "codemirror_mode": {
        "name": "ipython",
        "version": 3
      },
      "file_extension": ".py",
      "mimetype": "text/x-python",
      "name": "python",
      "nbconvert_exporter": "python",
      "pygments_lexer": "ipython3",
      "version": "3.13.2"
    },
    "orig_nbformat": 4
  },
  "nbformat": 4,
  "nbformat_minor": 0
}
